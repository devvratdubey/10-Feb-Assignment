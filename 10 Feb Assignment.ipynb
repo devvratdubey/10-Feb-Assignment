{
 "cells": [
  {
   "cell_type": "markdown",
   "id": "667c9c53-c42a-4b23-9641-0c24027fc44c",
   "metadata": {},
   "source": [
    "#Q1 ANSWER\n",
    "\n",
    "We can open files in python using the open function\n",
    "\n",
    "This function takes two arguments. First is the filename along with its complete path, and the other is access mode. This function returns a file object.\n",
    "\n",
    "open(filename, mode)\n",
    "\n",
    "The file and python script should be in the same directory. Else, you need to provide the full path of the file.\n",
    "By default, the access mode is read mode if you don't specify any mode. All the file-opening access modes are described below.\n",
    "Access mode tells the type of operations possible in the opened file. There are various modes in which we can open a file\n",
    "\n",
    "\n",
    "\n"
   ]
  },
  {
   "cell_type": "code",
   "execution_count": 1,
   "id": "0f101626-db27-4919-94d6-d66d8ce58baf",
   "metadata": {},
   "outputs": [],
   "source": [
    "#method 1\n",
    "fileobject=open(\"devvrat.txt\",\"w\")"
   ]
  },
  {
   "cell_type": "code",
   "execution_count": 3,
   "id": "be73c72f-ee35-4630-adbd-1c2a562256d3",
   "metadata": {},
   "outputs": [
    {
     "data": {
      "text/plain": [
       "12"
      ]
     },
     "execution_count": 3,
     "metadata": {},
     "output_type": "execute_result"
    }
   ],
   "source": [
    "fileobject.write(\" i am a boy \")"
   ]
  },
  {
   "cell_type": "code",
   "execution_count": 4,
   "id": "03fe6c9a-12e1-48bc-a1ce-1a9ab9559644",
   "metadata": {},
   "outputs": [],
   "source": [
    "fileobject.close()\n"
   ]
  },
  {
   "cell_type": "code",
   "execution_count": 7,
   "id": "226abaf8-b82c-4d95-963f-83a6ca73e5e1",
   "metadata": {},
   "outputs": [],
   "source": [
    "fileobject=open(\"devvrat.txt\",\"r\")"
   ]
  },
  {
   "cell_type": "code",
   "execution_count": 8,
   "id": "dfac5510-eba7-4997-81d1-4732c0c7262d",
   "metadata": {},
   "outputs": [
    {
     "data": {
      "text/plain": [
       "' i am a boy '"
      ]
     },
     "execution_count": 8,
     "metadata": {},
     "output_type": "execute_result"
    }
   ],
   "source": [
    "fileobject.read()"
   ]
  },
  {
   "cell_type": "code",
   "execution_count": 9,
   "id": "020c6a52-278f-472a-9d0c-153b21e8a0e7",
   "metadata": {},
   "outputs": [],
   "source": [
    "fileobject.close()"
   ]
  },
  {
   "cell_type": "markdown",
   "id": "b16ccab4-84f4-47b0-b6bd-20a2a0f73509",
   "metadata": {},
   "source": [
    "first we opened the file (devvrat.txt) in write mode  fileobject named(fileobject) and then we wrote some information as fileobject.write()\n",
    "\n",
    "before reading we have to close the write mode so we closed as fileobject.close()\n",
    "\n",
    "for reading we again opened the file but now as read mode\n",
    "\n",
    "then we called fileobject.read()"
   ]
  },
  {
   "cell_type": "code",
   "execution_count": 10,
   "id": "50ca93de-86c9-47de-a770-e5466c7e9839",
   "metadata": {},
   "outputs": [],
   "source": [
    "#method 2\n",
    "with open (\"devvrat.txt\",\"a\") as file1:\n",
    "    file1.write(\" my father name is anilkumar dubey. he is very hardworking \")"
   ]
  },
  {
   "cell_type": "code",
   "execution_count": 11,
   "id": "1a16f338-c586-453c-bb8a-63608eda57cb",
   "metadata": {},
   "outputs": [
    {
     "name": "stdout",
     "output_type": "stream",
     "text": [
      " i am a boy  my father name is anilkumar dubey. he is very hardworking \n"
     ]
    }
   ],
   "source": [
    "with open(\"devvrat.txt\",\"r\") as file1:\n",
    "    x=file1.read()\n",
    "    print(x)"
   ]
  },
  {
   "cell_type": "markdown",
   "id": "7bf49e1b-951d-443d-a39a-fafc5cd9c454",
   "metadata": {},
   "source": [
    "first we opened the file in append mode by using \"with(filename,mode) as objectname\" then in the body i append some information by file1.write()\n",
    "\n",
    "in this method it automatically gets closed\n",
    "\n",
    "again we have opend by the file by using with  in readmode. and then we read the file as file1.read()"
   ]
  },
  {
   "cell_type": "markdown",
   "id": "4b1ba249-51e9-4104-a01a-911c6f20909f",
   "metadata": {},
   "source": [
    "#Q2 ANSWER\n",
    "\n",
    "close() function\n",
    "\n",
    "This function doesn't take any argument, and you can directly call the close() function using the file object. It can be called multiple times, but if any operation is performed on the closed file, a \"ValueError\" exception is raised.\n",
    "\n",
    "wE can use the 'with' statement with open also, as it provides better exception handling and simplifies it by providing some cleanup tasks. Also, it will automatically close the file, and you don't have to do it manually."
   ]
  },
  {
   "cell_type": "code",
   "execution_count": 12,
   "id": "60546971-eb33-4aeb-a7f2-0e1e814a367f",
   "metadata": {},
   "outputs": [],
   "source": [
    "fileobject=open(\"devvrat.txt\",\"w\")"
   ]
  },
  {
   "cell_type": "code",
   "execution_count": 13,
   "id": "6bbb297e-c811-4009-8385-03b95038956e",
   "metadata": {},
   "outputs": [
    {
     "data": {
      "text/plain": [
       "12"
      ]
     },
     "execution_count": 13,
     "metadata": {},
     "output_type": "execute_result"
    }
   ],
   "source": [
    "fileobject.write(\" i am a boy \")"
   ]
  },
  {
   "cell_type": "code",
   "execution_count": 14,
   "id": "1f9bd216-e935-403b-a8c0-ddbd1fc1dae4",
   "metadata": {},
   "outputs": [],
   "source": [
    "fileobject.close()"
   ]
  },
  {
   "cell_type": "markdown",
   "id": "aa8f32fe-088d-485a-b73a-36603a563549",
   "metadata": {},
   "source": [
    "if we are in write mode we cannot read first we have to close the file then only we can acees read mode.\n",
    "\n",
    "so moving from on mode to another file closing is necessary"
   ]
  },
  {
   "cell_type": "markdown",
   "id": "7d1ea633-dabf-45b2-a21d-f719f017b698",
   "metadata": {},
   "source": [
    "#Q3 ANSWER\n"
   ]
  },
  {
   "cell_type": "code",
   "execution_count": 15,
   "id": "c5bc0666-8332-4443-af77-21924a065f51",
   "metadata": {},
   "outputs": [],
   "source": [
    "dev1=open(\"devassignment.txt\",\"w\")"
   ]
  },
  {
   "cell_type": "code",
   "execution_count": 16,
   "id": "b2ef611d-3076-42fd-9231-f714201243e2",
   "metadata": {},
   "outputs": [
    {
     "data": {
      "text/plain": [
       "33"
      ]
     },
     "execution_count": 16,
     "metadata": {},
     "output_type": "execute_result"
    }
   ],
   "source": [
    "dev1.write(\"I want to become a Data Scientist\")\n"
   ]
  },
  {
   "cell_type": "code",
   "execution_count": 17,
   "id": "633329ae-1d72-47a0-8c60-6749a8a1d2f7",
   "metadata": {},
   "outputs": [],
   "source": [
    "dev1.close()"
   ]
  },
  {
   "cell_type": "code",
   "execution_count": 18,
   "id": "31f75618-425d-40f2-9925-886a0a07064c",
   "metadata": {},
   "outputs": [],
   "source": [
    "dev1=open(\"devassignment.txt\",\"r\")"
   ]
  },
  {
   "cell_type": "code",
   "execution_count": 19,
   "id": "dae5b404-a637-4ccf-94ee-4cb07e08b3e4",
   "metadata": {},
   "outputs": [
    {
     "data": {
      "text/plain": [
       "'I want to become a Data Scientist'"
      ]
     },
     "execution_count": 19,
     "metadata": {},
     "output_type": "execute_result"
    }
   ],
   "source": [
    "dev1.read()"
   ]
  },
  {
   "cell_type": "markdown",
   "id": "ed5f27ce-63d3-4d1d-a5a6-9d208c6d609c",
   "metadata": {},
   "source": [
    "#Q4 ANSWER\n"
   ]
  },
  {
   "cell_type": "code",
   "execution_count": 20,
   "id": "d02f30f7-e0c9-482b-bd60-ca2a6a5c15ed",
   "metadata": {},
   "outputs": [],
   "source": [
    "with open(\"example.txt\",\"w\") as file1:\n",
    "    file1.write(\"Data Science Masters course is highly curated and uniquely designed according to the latest industry standards.\\n This program instills students the skills essential to knowledge discovery efforts to identify standard, novel, and truly differentiated solutions and decision-making, including skills in managing, querying, analyzing, visualizing, and extracting meaning from extremely large data sets.\\n This trending program provides students with the statistical, mathematical and computational skills needed to meet the large-scale data science challenges of today's professional world.\\n You will learn all the stack required to work in data science industry including cloud infrastructure and real-time industry projects.\\n This course will be taught in Hindi language.\")"
   ]
  },
  {
   "cell_type": "code",
   "execution_count": 21,
   "id": "1a7806ad-6422-486f-bd2e-e6274d5538b1",
   "metadata": {},
   "outputs": [],
   "source": [
    "file1=open(\"example.txt\",\"r\")"
   ]
  },
  {
   "cell_type": "markdown",
   "id": "f9398eec-63b7-4828-a5dc-102428e4cae8",
   "metadata": {},
   "source": [
    "1. The read() method in python:\n",
    "\n",
    "The read method returns a string that contains all the characters of the file mentioned. There are no mandatory parameters to this function, but if you want to read a certain number of characters from the file, you can specify them as a parameter."
   ]
  },
  {
   "cell_type": "code",
   "execution_count": 22,
   "id": "b89f0948-e1e3-4f30-8ea7-c459ed8e0267",
   "metadata": {},
   "outputs": [],
   "source": [
    "x=file1.read()"
   ]
  },
  {
   "cell_type": "code",
   "execution_count": 23,
   "id": "d54f69f7-0d2d-4fd8-b38d-1c4f5159d6d5",
   "metadata": {},
   "outputs": [
    {
     "data": {
      "text/plain": [
       "\"Data Science Masters course is highly curated and uniquely designed according to the latest industry standards.\\n This program instills students the skills essential to knowledge discovery efforts to identify standard, novel, and truly differentiated solutions and decision-making, including skills in managing, querying, analyzing, visualizing, and extracting meaning from extremely large data sets.\\n This trending program provides students with the statistical, mathematical and computational skills needed to meet the large-scale data science challenges of today's professional world.\\n You will learn all the stack required to work in data science industry including cloud infrastructure and real-time industry projects.\\n This course will be taught in Hindi language.\""
      ]
     },
     "execution_count": 23,
     "metadata": {},
     "output_type": "execute_result"
    }
   ],
   "source": [
    "x"
   ]
  },
  {
   "cell_type": "code",
   "execution_count": 24,
   "id": "c3882eb8-f0a0-4edf-8907-c7cd75dfeb11",
   "metadata": {},
   "outputs": [
    {
     "data": {
      "text/plain": [
       "str"
      ]
     },
     "execution_count": 24,
     "metadata": {},
     "output_type": "execute_result"
    }
   ],
   "source": [
    "type(x)"
   ]
  },
  {
   "cell_type": "markdown",
   "id": "a0c4bb6d-fc77-4da8-818b-f54450d4a955",
   "metadata": {},
   "source": [
    "after reading a file cursor is at last position we have to bring the curson back to first position"
   ]
  },
  {
   "cell_type": "code",
   "execution_count": 25,
   "id": "5b9b3767-74a3-4aac-9f32-c3aa9ecfaae6",
   "metadata": {},
   "outputs": [
    {
     "data": {
      "text/plain": [
       "0"
      ]
     },
     "execution_count": 25,
     "metadata": {},
     "output_type": "execute_result"
    }
   ],
   "source": [
    "file1.seek(0)# cursor back to start"
   ]
  },
  {
   "cell_type": "code",
   "execution_count": 26,
   "id": "e4eb252f-5a54-444b-98f3-0d760a6901e7",
   "metadata": {},
   "outputs": [
    {
     "data": {
      "text/plain": [
       "'Data Scien'"
      ]
     },
     "execution_count": 26,
     "metadata": {},
     "output_type": "execute_result"
    }
   ],
   "source": [
    "file1.read(10)# it read first 10 characters"
   ]
  },
  {
   "cell_type": "code",
   "execution_count": 27,
   "id": "a7e645c5-f853-4ba3-a045-190502fe3aad",
   "metadata": {},
   "outputs": [
    {
     "data": {
      "text/plain": [
       "\"ce Masters course is highly curated and uniquely designed according to the latest industry standards.\\n This program instills students the skills essential to knowledge discovery efforts to identify standard, novel, and truly differentiated solutions and decision-making, including skills in managing, querying, analyzing, visualizing, and extracting meaning from extremely large data sets.\\n This trending program provides students with the statistical, mathematical and computational skills needed to meet the large-scale data science challenges of today's professional world.\\n You will learn all the stack required to work in data science industry including cloud infrastructure and real-time industry projects.\\n This course will be taught in Hindi language.\""
      ]
     },
     "execution_count": 27,
     "metadata": {},
     "output_type": "execute_result"
    }
   ],
   "source": [
    "file1.read()#after reading first 10 characters when we call read it starts reading from the point where the cursor was lasttime"
   ]
  },
  {
   "cell_type": "code",
   "execution_count": 28,
   "id": "f0174e4e-af62-4aa3-881e-fdad2abb44cd",
   "metadata": {},
   "outputs": [
    {
     "data": {
      "text/plain": [
       "0"
      ]
     },
     "execution_count": 28,
     "metadata": {},
     "output_type": "execute_result"
    }
   ],
   "source": [
    "file1.seek(0)## cursor back to start"
   ]
  },
  {
   "cell_type": "markdown",
   "id": "6bde77cd-3046-4a1e-b26d-0c7719e652cf",
   "metadata": {},
   "source": [
    "2.The readlines() method in python:\n",
    "\n",
    "As the name suggests, the readlines() method reads all the lines in the file and returns them properly separated in a list"
   ]
  },
  {
   "cell_type": "code",
   "execution_count": 29,
   "id": "fc4f3596-b941-4fc2-847d-fd49fb03e788",
   "metadata": {},
   "outputs": [],
   "source": [
    "x=file1.readlines()"
   ]
  },
  {
   "cell_type": "code",
   "execution_count": 30,
   "id": "72e68fe4-1728-4ceb-808b-6f9c69ae5e7b",
   "metadata": {},
   "outputs": [
    {
     "data": {
      "text/plain": [
       "list"
      ]
     },
     "execution_count": 30,
     "metadata": {},
     "output_type": "execute_result"
    }
   ],
   "source": [
    "type(x)"
   ]
  },
  {
   "cell_type": "code",
   "execution_count": 31,
   "id": "3e7c7745-24c7-4f5c-b8a0-71bf66c4203b",
   "metadata": {},
   "outputs": [
    {
     "data": {
      "text/plain": [
       "['Data Science Masters course is highly curated and uniquely designed according to the latest industry standards.\\n',\n",
       " ' This program instills students the skills essential to knowledge discovery efforts to identify standard, novel, and truly differentiated solutions and decision-making, including skills in managing, querying, analyzing, visualizing, and extracting meaning from extremely large data sets.\\n',\n",
       " \" This trending program provides students with the statistical, mathematical and computational skills needed to meet the large-scale data science challenges of today's professional world.\\n\",\n",
       " ' You will learn all the stack required to work in data science industry including cloud infrastructure and real-time industry projects.\\n',\n",
       " ' This course will be taught in Hindi language.']"
      ]
     },
     "execution_count": 31,
     "metadata": {},
     "output_type": "execute_result"
    }
   ],
   "source": [
    "x"
   ]
  },
  {
   "cell_type": "code",
   "execution_count": 32,
   "id": "19de647a-a439-4901-b44e-dd969e747c18",
   "metadata": {},
   "outputs": [
    {
     "data": {
      "text/plain": [
       "'Data Science Masters course is highly curated and uniquely designed according to the latest industry standards.\\n'"
      ]
     },
     "execution_count": 32,
     "metadata": {},
     "output_type": "execute_result"
    }
   ],
   "source": [
    "x[0]"
   ]
  },
  {
   "cell_type": "code",
   "execution_count": 33,
   "id": "9bf332d7-2128-409a-906e-16a34fc4d47a",
   "metadata": {},
   "outputs": [
    {
     "data": {
      "text/plain": [
       "' This program instills students the skills essential to knowledge discovery efforts to identify standard, novel, and truly differentiated solutions and decision-making, including skills in managing, querying, analyzing, visualizing, and extracting meaning from extremely large data sets.\\n'"
      ]
     },
     "execution_count": 33,
     "metadata": {},
     "output_type": "execute_result"
    }
   ],
   "source": [
    "x[1]"
   ]
  },
  {
   "cell_type": "code",
   "execution_count": 34,
   "id": "22470457-730a-4a01-8c6c-fb52e2d91f60",
   "metadata": {},
   "outputs": [
    {
     "data": {
      "text/plain": [
       "0"
      ]
     },
     "execution_count": 34,
     "metadata": {},
     "output_type": "execute_result"
    }
   ],
   "source": [
    "file1.seek(0)"
   ]
  },
  {
   "cell_type": "markdown",
   "id": "45cc45bc-8ec3-4da8-965b-fdcfdc69cb42",
   "metadata": {},
   "source": [
    "3.The readline() method in python:\n",
    "    \n",
    "The readline() function helps you read a single line from the file. You can run this function as often as you require to get the information. Every time you run the function, it returns a string of the characters that it reads from a single line from the file."
   ]
  },
  {
   "cell_type": "code",
   "execution_count": 35,
   "id": "5a32dffb-bd2c-4f12-99e9-44481c125de6",
   "metadata": {},
   "outputs": [],
   "source": [
    "x=file1.readline()"
   ]
  },
  {
   "cell_type": "code",
   "execution_count": 36,
   "id": "1fd61282-5939-48de-a36e-20ebebc9281e",
   "metadata": {},
   "outputs": [
    {
     "data": {
      "text/plain": [
       "'Data Science Masters course is highly curated and uniquely designed according to the latest industry standards.\\n'"
      ]
     },
     "execution_count": 36,
     "metadata": {},
     "output_type": "execute_result"
    }
   ],
   "source": [
    "x"
   ]
  },
  {
   "cell_type": "code",
   "execution_count": 37,
   "id": "eb0d6da0-ce0f-4ed0-a452-1efa4a0b26a9",
   "metadata": {},
   "outputs": [
    {
     "data": {
      "text/plain": [
       "' This program instills students the skills essential to knowledge discovery efforts to identify standard, novel, and truly differentiated solutions and decision-making, including skills in managing, querying, analyzing, visualizing, and extracting meaning from extremely large data sets.\\n'"
      ]
     },
     "execution_count": 37,
     "metadata": {},
     "output_type": "execute_result"
    }
   ],
   "source": [
    "file1.readline()"
   ]
  },
  {
   "cell_type": "code",
   "execution_count": 38,
   "id": "dc159b17-bfa2-4ece-952e-ba8fedfbb4c0",
   "metadata": {},
   "outputs": [
    {
     "data": {
      "text/plain": [
       "\" This trending program provides students with the statistical, mathematical and computational skills needed to meet the large-scale data science challenges of today's professional world.\\n\""
      ]
     },
     "execution_count": 38,
     "metadata": {},
     "output_type": "execute_result"
    }
   ],
   "source": [
    "file1.readline()"
   ]
  },
  {
   "cell_type": "code",
   "execution_count": 39,
   "id": "e6564c3a-c292-469a-9bea-805f21980fac",
   "metadata": {},
   "outputs": [
    {
     "data": {
      "text/plain": [
       "' You will learn all the stack required to work in data science industry including cloud infrastructure and real-time industry projects.\\n'"
      ]
     },
     "execution_count": 39,
     "metadata": {},
     "output_type": "execute_result"
    }
   ],
   "source": [
    "file1.readline()"
   ]
  },
  {
   "cell_type": "code",
   "execution_count": 40,
   "id": "f8d1d6bb-fd96-4b7a-896e-047e0c798ef4",
   "metadata": {},
   "outputs": [
    {
     "data": {
      "text/plain": [
       "' This course will be taught in Hindi language.'"
      ]
     },
     "execution_count": 40,
     "metadata": {},
     "output_type": "execute_result"
    }
   ],
   "source": [
    "file1.readline()"
   ]
  },
  {
   "cell_type": "code",
   "execution_count": 41,
   "id": "c8897dae-4b90-4328-a96f-c434291d6646",
   "metadata": {},
   "outputs": [
    {
     "data": {
      "text/plain": [
       "''"
      ]
     },
     "execution_count": 41,
     "metadata": {},
     "output_type": "execute_result"
    }
   ],
   "source": [
    "file1.readline()"
   ]
  },
  {
   "cell_type": "markdown",
   "id": "4b46c463-26bb-464e-8a77-34d6c0a534cd",
   "metadata": {},
   "source": [
    "#Q5 ANSWER\n",
    "\n",
    "\n",
    "with statement in python aims to simplify the process of try…finally. It enables us to write cleaner and safer code. with can be considered as a simplified version for try…finally code. It handles the memory allocation and deallocation automatically.\n",
    "\n",
    "Most commonly with is used with files\n"
   ]
  },
  {
   "cell_type": "code",
   "execution_count": 42,
   "id": "3c3b262f-5f1f-4cb6-9324-06211fc1e307",
   "metadata": {},
   "outputs": [
    {
     "name": "stdout",
     "output_type": "stream",
     "text": [
      "Data Science Masters course is highly curated and uniquely designed according to the latest industry standards.\n",
      " This program instills students the skills essential to knowledge discovery efforts to identify standard, novel, and truly differentiated solutions and decision-making, including skills in managing, querying, analyzing, visualizing, and extracting meaning from extremely large data sets.\n",
      " This trending program provides students with the statistical, mathematical and computational skills needed to meet the large-scale data science challenges of today's professional world.\n",
      " You will learn all the stack required to work in data science industry including cloud infrastructure and real-time industry projects.\n",
      " This course will be taught in Hindi language.\n"
     ]
    }
   ],
   "source": [
    "with open(\"example.txt\") as file:\n",
    "    print(file.read())"
   ]
  },
  {
   "cell_type": "markdown",
   "id": "54b63701-5168-4b3c-855e-c5376eab3096",
   "metadata": {},
   "source": [
    "In the above code, we use with to open a file and perform operations on it. When the with block is executed it automatically closes the file even when an exception is raised.\n",
    "\n",
    "If with is not used then it is the responsibility of the programmer to close the file. If the file is not closed then the performed operations will not be saved on the file."
   ]
  },
  {
   "cell_type": "markdown",
   "id": "decc2236-faa7-438c-a711-dca1666a47fa",
   "metadata": {},
   "source": [
    "#Q6 ANSWER\n",
    "\n",
    "We have various access modes to open an existing text file in Pyhton and to write to it, depending on what we need. Even if the text file does not already exist, we can use the w or the a access mode to create a text file and then write to it. There are two functions in Python that help us write into text files:\n",
    "\n",
    "1. The write() function in Python\n",
    "\n",
    "Whatever strings you give as a parameter to this function, it writes it as a single line in the text file. Now again, whether or not the existing contents will be truncated depends on the access mode. If you use the w mode, the contents will be truncated, and your string will be written. However, in the a mode, your existing contents will not be deleted, and your string will be written after the content"
   ]
  },
  {
   "cell_type": "code",
   "execution_count": 43,
   "id": "b3e2e6e1-3139-44ae-a31e-efe9510d549a",
   "metadata": {},
   "outputs": [],
   "source": [
    "file=open(\"example.txt\",\"w\")"
   ]
  },
  {
   "cell_type": "code",
   "execution_count": 44,
   "id": "2334c5b4-736b-492b-9e9a-7ed5de82a835",
   "metadata": {},
   "outputs": [
    {
     "data": {
      "text/plain": [
       "238"
      ]
     },
     "execution_count": 44,
     "metadata": {},
     "output_type": "execute_result"
    }
   ],
   "source": [
    "file.write(\"After learning about how to write into files in Python, here are some key points that will help you use the write() method to insert a single string into a text file and the writelines() method to insert multiple strings into a text file.\")"
   ]
  },
  {
   "cell_type": "code",
   "execution_count": 45,
   "id": "bc659d48-caf9-4d54-a521-afbd482d0c3d",
   "metadata": {},
   "outputs": [],
   "source": [
    "file.close()"
   ]
  },
  {
   "cell_type": "code",
   "execution_count": 46,
   "id": "3aef9d39-b319-430e-adcb-11574b9e34fb",
   "metadata": {},
   "outputs": [],
   "source": [
    "file=open(\"example.txt\",\"r\")"
   ]
  },
  {
   "cell_type": "code",
   "execution_count": 47,
   "id": "9704d91b-adcc-4c6c-bc5c-beb3b1a3dfba",
   "metadata": {},
   "outputs": [
    {
     "data": {
      "text/plain": [
       "'After learning about how to write into files in Python, here are some key points that will help you use the write() method to insert a single string into a text file and the writelines() method to insert multiple strings into a text file.'"
      ]
     },
     "execution_count": 47,
     "metadata": {},
     "output_type": "execute_result"
    }
   ],
   "source": [
    "file.read()"
   ]
  },
  {
   "cell_type": "markdown",
   "id": "6738e614-ae51-4814-ab1f-88ebee2987b1",
   "metadata": {},
   "source": [
    "2. The writelines() function in Python:\n",
    "\n",
    "Constantly using file.write() for every line that we want to write to your file can get difficult. Hence, we can use the writelines() function.\n",
    "\n",
    "A simple way to use it, is to provide a list of strings as a parameter to writelines()."
   ]
  },
  {
   "cell_type": "code",
   "execution_count": 49,
   "id": "18b388bc-2b53-49d9-a958-721f7d324b56",
   "metadata": {},
   "outputs": [],
   "source": [
    "l=[\"We use the write() method to insert a single string into a text file and the writelines() method to insert multiple strings into a text file\",\n",
    "   \"To write something to a binary file, we need to first convert our input into binary form.\",\n",
    "  \"To convert an array of numbers into a binary array, we can use bytearray() function.\"]"
   ]
  },
  {
   "cell_type": "code",
   "execution_count": 50,
   "id": "99ff994a-3c98-439b-b7df-aa1a54fbb7ee",
   "metadata": {},
   "outputs": [],
   "source": [
    "file=open(\"example.txt\",\"a\")"
   ]
  },
  {
   "cell_type": "code",
   "execution_count": 51,
   "id": "31db306d-a365-4135-9e31-b4ec9f77219c",
   "metadata": {},
   "outputs": [],
   "source": [
    "file.writelines(l)"
   ]
  },
  {
   "cell_type": "code",
   "execution_count": 52,
   "id": "bad72343-a252-4afc-980c-81d6cea41911",
   "metadata": {},
   "outputs": [],
   "source": [
    "file.close()"
   ]
  },
  {
   "cell_type": "code",
   "execution_count": 53,
   "id": "30abdce0-ce81-4c36-9946-c901ef52ee93",
   "metadata": {},
   "outputs": [],
   "source": [
    "file=open(\"example.txt\",\"r\")"
   ]
  },
  {
   "cell_type": "code",
   "execution_count": 54,
   "id": "6d99b3e7-4fec-4da1-95e6-dfa0a9ecc7bf",
   "metadata": {},
   "outputs": [
    {
     "data": {
      "text/plain": [
       "'After learning about how to write into files in Python, here are some key points that will help you use the write() method to insert a single string into a text file and the writelines() method to insert multiple strings into a text file.We use the write() method to insert a single string into a text file and the writelines() method to insert multiple strings into a text fileTo write something to a binary file, we need to first convert our input into binary form.To convert an array of numbers into a binary array, we can use bytearray() function.'"
      ]
     },
     "execution_count": 54,
     "metadata": {},
     "output_type": "execute_result"
    }
   ],
   "source": [
    "file.read()"
   ]
  },
  {
   "cell_type": "code",
   "execution_count": 55,
   "id": "ccf074bf-6756-4211-8945-647e2f722983",
   "metadata": {},
   "outputs": [
    {
     "data": {
      "text/plain": [
       "0"
      ]
     },
     "execution_count": 55,
     "metadata": {},
     "output_type": "execute_result"
    }
   ],
   "source": [
    "file.seek(0)"
   ]
  },
  {
   "cell_type": "code",
   "execution_count": 56,
   "id": "9c5762ac-e917-419a-a136-49bb6ab7ab41",
   "metadata": {},
   "outputs": [
    {
     "data": {
      "text/plain": [
       "['After learning about how to write into files in Python, here are some key points that will help you use the write() method to insert a single string into a text file and the writelines() method to insert multiple strings into a text file.We use the write() method to insert a single string into a text file and the writelines() method to insert multiple strings into a text fileTo write something to a binary file, we need to first convert our input into binary form.To convert an array of numbers into a binary array, we can use bytearray() function.']"
      ]
     },
     "execution_count": 56,
     "metadata": {},
     "output_type": "execute_result"
    }
   ],
   "source": [
    "file.readlines()"
   ]
  },
  {
   "cell_type": "code",
   "execution_count": null,
   "id": "07f42d76-a3dc-424b-9eb0-effbf35350d3",
   "metadata": {},
   "outputs": [],
   "source": []
  }
 ],
 "metadata": {
  "kernelspec": {
   "display_name": "Python 3 (ipykernel)",
   "language": "python",
   "name": "python3"
  },
  "language_info": {
   "codemirror_mode": {
    "name": "ipython",
    "version": 3
   },
   "file_extension": ".py",
   "mimetype": "text/x-python",
   "name": "python",
   "nbconvert_exporter": "python",
   "pygments_lexer": "ipython3",
   "version": "3.10.8"
  }
 },
 "nbformat": 4,
 "nbformat_minor": 5
}
